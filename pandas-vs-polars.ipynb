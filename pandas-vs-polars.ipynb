{
 "cells": [
  {
   "cell_type": "markdown",
   "metadata": {},
   "source": [
    "# Cvičení: Polars vs Pandas\n",
    "\n",
    "Vyzkoušejte si práci s knihovnami Pandas a Polars na následujících úlohách.\n",
    "\n",
    "U každé úlohy porovnejte:\n",
    "- čas běhu (pomocí %timeit v Jupyteru)\n",
    "- čitelnost a jednoduchost syntaxe\n",
    "\n",
    "\n",
    "1. Vytvoření velkého DataFrame\n",
    "\n",
    "Úkol:\n",
    "Vytvořte DataFrame s 1 milionem řádků, obsahující:\n",
    "\n",
    "- sloupec id (číselná řada od 1)\n",
    "- sloupec category (náhodný výběr z hodnot „A“, „B“, „C“)\n",
    "- sloupec value (náhodná desetinná čísla mezi 0 a 100)\n",
    "\n",
    "\n",
    "\n",
    "2. Filtrování dat\n",
    "\n",
    "Úkol:\n",
    "Z předchozího DataFrame vyfiltrujte všechny řádky, kde:\n",
    "\n",
    "- category je „B“\n",
    "- a value je větší než 50\n",
    "\n",
    "\n",
    "3. Agregace (GroupBy)\n",
    "\n",
    "Úkol:\n",
    "Z předchozího DataFrame vypočítejte:\n",
    "\n",
    "- průměrnou hodnotu value pro každou category\n",
    "- počet řádků (count) v každé kategorii"
   ]
  },
  {
   "cell_type": "code",
   "execution_count": 3,
   "metadata": {},
   "outputs": [
    {
     "name": "stdout",
     "output_type": "stream",
     "text": [
      "Collecting polars\n",
      "  Downloading polars-1.27.1-cp39-abi3-macosx_11_0_arm64.whl.metadata (14 kB)\n",
      "Requirement already satisfied: pandas in /opt/anaconda3/lib/python3.12/site-packages (2.1.3)\n",
      "Requirement already satisfied: numpy<2,>=1.26.0 in /opt/anaconda3/lib/python3.12/site-packages (from pandas) (1.26.4)\n",
      "Requirement already satisfied: python-dateutil>=2.8.2 in /opt/anaconda3/lib/python3.12/site-packages (from pandas) (2.9.0.post0)\n",
      "Requirement already satisfied: pytz>=2020.1 in /opt/anaconda3/lib/python3.12/site-packages (from pandas) (2024.1)\n",
      "Requirement already satisfied: tzdata>=2022.1 in /opt/anaconda3/lib/python3.12/site-packages (from pandas) (2023.3)\n",
      "Requirement already satisfied: six>=1.5 in /opt/anaconda3/lib/python3.12/site-packages (from python-dateutil>=2.8.2->pandas) (1.16.0)\n",
      "Downloading polars-1.27.1-cp39-abi3-macosx_11_0_arm64.whl (31.6 MB)\n",
      "\u001b[2K   \u001b[90m━━━━━━━━━━━━━━━━━━━━━━━━━━━━━━━━━━━━━━━━\u001b[0m \u001b[32m31.6/31.6 MB\u001b[0m \u001b[31m45.3 MB/s\u001b[0m eta \u001b[36m0:00:00\u001b[0ma \u001b[36m0:00:01\u001b[0m\n",
      "\u001b[?25hInstalling collected packages: polars\n",
      "Successfully installed polars-1.27.1\n",
      "Note: you may need to restart the kernel to use updated packages.\n"
     ]
    }
   ],
   "source": [
    "\n",
    "# Pokud nemáte nainstalováno, spusťte:\n",
    "# %pip install polars pandas\n"
   ]
  },
  {
   "cell_type": "code",
   "execution_count": 4,
   "metadata": {},
   "outputs": [],
   "source": [
    "\n",
    "import polars as pl\n",
    "import pandas as pd\n",
    "import numpy as np\n",
    "\n",
    "# Pro měření času v Jupyteru:\n",
    "# použijeme %timeit\n"
   ]
  },
  {
   "cell_type": "markdown",
   "metadata": {},
   "source": [
    "### 📂 Cvičení 1: Vytvoření velkého DataFrame\n"
   ]
  },
  {
   "cell_type": "code",
   "execution_count": 15,
   "metadata": {},
   "outputs": [
    {
     "name": "stdout",
     "output_type": "stream",
     "text": [
      "96.3 ms ± 26.2 ms per loop (mean ± std. dev. of 7 runs, 10 loops each)\n"
     ]
    }
   ],
   "source": [
    "%%timeit \n",
    "# Pandas verze\n",
    "df_pd = pd.DataFrame({\"id\": np.arange(1, 1_000_001), \"category\": np.random.choice([\"A\", \"B\", \"C\"], size=1_000_000), \"value\": np.random.uniform(0, 100, size=1_000_000)})\n",
    "df_pd.head()"
   ]
  },
  {
   "cell_type": "code",
   "execution_count": 17,
   "metadata": {},
   "outputs": [],
   "source": [
    "\n",
    "# Polars verze\n",
    "df_pl = pl.DataFrame({\"id\": np.arange(1, 1_000_001), \"category\": np.random.choice([\"A\", \"B\", \"C\"], size=1_000_000), \"value\": np.random.uniform(0, 100, size=1_000_000)})\n",
    "\n"
   ]
  },
  {
   "cell_type": "markdown",
   "metadata": {},
   "source": [
    "### 📂 Cvičení 2: Filtrování dat\n"
   ]
  },
  {
   "cell_type": "code",
   "execution_count": 18,
   "metadata": {},
   "outputs": [
    {
     "name": "stdout",
     "output_type": "stream",
     "text": [
      "85.1 ms ± 14.2 ms per loop (mean ± std. dev. of 7 runs, 10 loops each)\n",
      "3.71 ms ± 165 μs per loop (mean ± std. dev. of 7 runs, 100 loops each)\n"
     ]
    }
   ],
   "source": [
    "# Pandas verze\n",
    "%timeit df_pd_filtered = df_pd[(df_pd[\"category\"] == \"B\") & (df_pd[\"value\"] > 50)]\n",
    "\n",
    "# Polars verze\n",
    "%timeit df_pl_filtered = df_pl.filter((pl.col(\"category\") == \"B\") & (pl.col(\"value\") > 50))\n"
   ]
  },
  {
   "cell_type": "markdown",
   "metadata": {},
   "source": [
    "### 📂 Cvičení 3: Agregace (GroupBy)\n"
   ]
  },
  {
   "cell_type": "code",
   "execution_count": null,
   "metadata": {},
   "outputs": [],
   "source": [
    "# Pandas verze\n",
    "%timeit df_pd_grouped = df_pd.groupby(\"category\").agg({\"value\": [\"mean\", \"count\"]})\n",
    "\n",
    "# Polars verze\n",
    "%timeit df_pl_grouped = df_pl.groupby(\"category\").agg([pl.col(\"value\").mean().alias(\"mean_value\"),pl.count().alias(\"count\")])\n"
   ]
  }
 ],
 "metadata": {
  "kernelspec": {
   "display_name": "base",
   "language": "python",
   "name": "python3"
  },
  "language_info": {
   "codemirror_mode": {
    "name": "ipython",
    "version": 3
   },
   "file_extension": ".py",
   "mimetype": "text/x-python",
   "name": "python",
   "nbconvert_exporter": "python",
   "pygments_lexer": "ipython3",
   "version": "3.12.7"
  }
 },
 "nbformat": 4,
 "nbformat_minor": 2
}
